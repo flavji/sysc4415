{
  "nbformat": 4,
  "nbformat_minor": 0,
  "metadata": {
    "colab": {
      "provenance": [],
      "include_colab_link": true
    },
    "kernelspec": {
      "name": "python3",
      "display_name": "Python 3"
    },
    "language_info": {
      "name": "python"
    }
  },
  "cells": [
    {
      "cell_type": "markdown",
      "metadata": {
        "id": "view-in-github",
        "colab_type": "text"
      },
      "source": [
        "<a href=\"https://colab.research.google.com/github/flavji/sysc4415/blob/main/sysc4415_w23_a1_flavji543.ipynb\" target=\"_parent\"><img src=\"https://colab.research.google.com/assets/colab-badge.svg\" alt=\"Open In Colab\"/></a>"
      ]
    },
    {
      "cell_type": "code",
      "source": [
        "\"\"\"\n",
        "GENERAL NOTE: Please print out numbers (i.e., accuracies, plots, etc.) so they are displayed to me when I run your cells. Use python's print() function.\n",
        "\"\"\"\n",
        "\n",
        "# import everything you might need\n",
        "\n",
        "import torch\n",
        "import math\n",
        "import matplotlib.pyplot as plt\n",
        "from sklearn.linear_model import LogisticRegression, LinearRegression\n",
        "from sklearn.metrics import accuracy_score, mean_absolute_error\n",
        "import pandas as pd\n",
        "from xgboost import XGBClassifier\n",
        "import random\n",
        "from torch.utils.data import TensorDataset, DataLoader\n",
        "import numpy as np"
      ],
      "metadata": {
        "id": "6DFH29u4vrvS"
      },
      "execution_count": null,
      "outputs": []
    },
    {
      "cell_type": "markdown",
      "source": [
        "**QUESTION 1**"
      ],
      "metadata": {
        "id": "oK3G_6TexTi7"
      }
    },
    {
      "cell_type": "code",
      "execution_count": null,
      "metadata": {
        "id": "CDbfBJXcvWV1",
        "colab": {
          "base_uri": "https://localhost:8080/",
          "height": 55
        },
        "outputId": "c16e533f-b26c-41cf-98ad-645a23c78f8e"
      },
      "outputs": [
        {
          "output_type": "execute_result",
          "data": {
            "text/plain": [
              "'\\nQ1: Calculate the gradient of the f(x, y, z) = 7x2z – 2xy3 + 5z at (-1, -2, 3). What does this vector represent?\\n\\n∇f(−1,−2,3)=−26i+24j+12k\\nThis vector represents the rate of change of f(x,y,z) at (-1,-2,3)\\n'"
            ],
            "application/vnd.google.colaboratory.intrinsic+json": {
              "type": "string"
            }
          },
          "metadata": {},
          "execution_count": 6
        }
      ],
      "source": [
        "\"\"\"\n",
        "Q1: Calculate the gradient of the f(x, y, z) = 7x2z – 2xy3 + 5z at (-1, -2, 3). What does this vector represent?\n",
        "\n",
        "∇f(−1,−2,3) = −26i + 24j + 12k\n",
        "This vector represents the rate of change of f(x,y,z) at (-1,-2,3)\n",
        "\"\"\""
      ]
    },
    {
      "cell_type": "markdown",
      "source": [
        "**QUESTION 2**"
      ],
      "metadata": {
        "id": "7p8galnwxL_L"
      }
    },
    {
      "cell_type": "code",
      "source": [
        "# Let me download the files for you\n",
        "\n",
        "!wget https://github.com/jrgreen7/SYSC4906/releases/download/Ass1/train.csv\n",
        "!wget https://github.com/jrgreen7/SYSC4906/releases/download/Ass1/val.csv\n",
        "!wget https://github.com/jrgreen7/SYSC4906/releases/download/Ass1/test.csv"
      ],
      "metadata": {
        "id": "43Iiwi_pdY_j"
      },
      "execution_count": null,
      "outputs": []
    },
    {
      "cell_type": "code",
      "source": [
        "\"\"\"\n",
        "Q2a: Use pandas to load train.csv, val.csv, and test.csv into three separate dataframes.\n",
        "Then, create three scatter plots of the train set with features A, B, and C on the x-axes and Y on the y-axes.\n",
        "\"\"\"\n",
        "import pandas as pd\n",
        "import matplotlib.pyplot as plt\n",
        "import seaborn as sb\n",
        "\n",
        "# downloading and extracting datasets from Github and storing to Pandas Dataframe\n",
        "urlTrain = 'https://github.com/jrgreen7/SYSC4906/releases/download/Ass1/train.csv'\n",
        "urlVal = 'https://github.com/jrgreen7/SYSC4906/releases/download/Ass1/val.csv'\n",
        "urlTest = 'https://github.com/jrgreen7/SYSC4906/releases/download/Ass1/test.csv'\n",
        "dfTrain = pd.read_csv(urlTrain)\n",
        "dfVal = pd.read_csv(urlVal)\n",
        "dfTest = pd.read_csv(urlTest)\n",
        "\n",
        "# unpacking columns into individual variables\n",
        "trainA = dfTrain['A']\n",
        "trainB = dfTrain['B']\n",
        "trainC = dfTrain['C']\n",
        "trainY= dfTrain['Y']\n",
        "trainLabel = dfTrain['Label']\n",
        "\n",
        "# plotting A, B, and C against Y\n",
        "plt.figure(figsize= (12,26))\n",
        "\n",
        "plt.subplot(5, 2, 1); plt.scatter(trainA, trainY, s=10, c='b'); plt.xlabel(\"A\"); plt.ylabel(\"Y\"); plt.title(\"Y vs. A\")\n",
        "plt.subplot(5, 2, 2); plt.scatter(trainB, trainY, s=10, c='g'); plt.xlabel(\"B\"); plt.ylabel(\"Y\"); plt.title(\"Y vs. B\")\n",
        "plt.subplot(5, 2, 3); plt.scatter(trainC, trainY, s=10, c='r'); plt.xlabel(\"C\"); plt.ylabel(\"Y\"); plt.title(\"Y vs. C\")\n",
        "\n",
        "plt.show()"
      ],
      "metadata": {
        "id": "PlE8_uM_vmxb",
        "colab": {
          "base_uri": "https://localhost:8080/",
          "height": 614
        },
        "outputId": "acb07dcd-4e03-4a78-8bc4-adba930890cc"
      },
      "execution_count": null,
      "outputs": [
        {
          "output_type": "display_data",
          "data": {
            "text/plain": [
              "<Figure size 864x1872 with 3 Axes>"
            ],
            "image/png": "[encoded data removed]"
          },
          "metadata": {
            "needs_background": "light"
          }
        }
      ]
    },
    {
      "cell_type": "code",
      "source": [
        "\"\"\"\n",
        "Q2b: If you were using A, B, and C to predict Y (i.e., using linear regression), how well do you think these features would perform?\n",
        "Do you think nonlinear functions would fit the data better? Why or why not?\n",
        "\n",
        "A and B would work well to predict Y as the Y vs A plot grows in density along a line but Y vs B would work better due to the better density, even though its slightly curved.\n",
        "B would work better with a nonlinear function and C will not really work well as the data is scattered all over with no strong visible density.\n",
        "\"\"\""
      ],
      "metadata": {
        "id": "nJ4PZt77wHbT"
      },
      "execution_count": null,
      "outputs": []
    },
    {
      "cell_type": "code",
      "source": [
        "\"\"\"\n",
        "Q2c: The data is already normalized, how can you tell?\n",
        "\n",
        "The data is normalized as the values for A, B, C, and Y stay within the range of 0 and 1.\n",
        "\"\"\"\n",
        "dfTrain.describe()"
      ],
      "metadata": {
        "id": "sIhPuIPDwkw9",
        "colab": {
          "base_uri": "https://localhost:8080/",
          "height": 300
        },
        "outputId": "dc7eef53-6075-4c97-b441-879f2c45b6da"
      },
      "execution_count": null,
      "outputs": [
        {
          "output_type": "execute_result",
          "data": {
            "text/plain": [
              "                 A            B            C            Y        Label  \\\n",
              "count  1000.000000  1000.000000  1000.000000  1000.000000  1000.000000   \n",
              "mean      0.494402     0.508317     0.487465     0.444108     3.764000   \n",
              "std       0.287743     0.284111     0.292580     0.210157     2.183362   \n",
              "min       0.000100     0.000000     0.000108     0.000000     0.000000   \n",
              "25%       0.250918     0.275228     0.230890     0.287641     2.000000   \n",
              "50%       0.485486     0.515976     0.468818     0.395947     3.000000   \n",
              "75%       0.729613     0.747734     0.750513     0.589799     5.000000   \n",
              "max       0.998230     0.997099     0.999805     0.984138     9.000000   \n",
              "\n",
              "             sqrtA      sqrt(A)      sqrt(B)      sqrt(C)            A2  \\\n",
              "count  1000.000000  1000.000000  1000.000000  1000.000000  1.000000e+03   \n",
              "mean      0.662828     0.662828     0.674323     0.655804  3.271466e-01   \n",
              "std       0.234768     0.234768     0.231643     0.239674  2.979967e-01   \n",
              "min       0.009981     0.009981     0.000000     0.010408  9.924199e-09   \n",
              "25%       0.500917     0.500917     0.524622     0.480510  6.296033e-02   \n",
              "50%       0.696768     0.696768     0.718315     0.684703  2.356968e-01   \n",
              "75%       0.854174     0.854174     0.864716     0.866322  5.323353e-01   \n",
              "max       0.999114     0.999114     0.998549     0.999903  9.964621e-01   \n",
              "\n",
              "                B2            C2  \n",
              "count  1000.000000  1.000000e+03  \n",
              "mean      0.339024  3.231400e-01  \n",
              "std       0.294233  3.010605e-01  \n",
              "min       0.000000  1.173392e-08  \n",
              "25%       0.075751  5.331011e-02  \n",
              "50%       0.266231  2.197906e-01  \n",
              "75%       0.559107  5.632708e-01  \n",
              "max       0.994207  9.996106e-01  "
            ],
            "text/html": [
              "\n",
              "  <div id=\"df-6d1972a1-8aa4-4749-a7e2-19728b8cddab\">\n",
              "    <div class=\"colab-df-container\">\n",
              "      <div>\n",
              "<style scoped>\n",
              "    .dataframe tbody tr th:only-of-type {\n",
              "        vertical-align: middle;\n",
              "    }\n",
              "\n",
              "    .dataframe tbody tr th {\n",
              "        vertical-align: top;\n",
              "    }\n",
              "\n",
              "    .dataframe thead th {\n",
              "        text-align: right;\n",
              "    }\n",
              "</style>\n",
              "<table border=\"1\" class=\"dataframe\">\n",
              "  <thead>\n",
              "    <tr style=\"text-align: right;\">\n",
              "      <th></th>\n",
              "      <th>A</th>\n",
              "      <th>B</th>\n",
              "      <th>C</th>\n",
              "      <th>Y</th>\n",
              "      <th>Label</th>\n",
              "      <th>sqrtA</th>\n",
              "      <th>sqrt(A)</th>\n",
              "      <th>sqrt(B)</th>\n",
              "      <th>sqrt(C)</th>\n",
              "      <th>A2</th>\n",
              "      <th>B2</th>\n",
              "      <th>C2</th>\n",
              "    </tr>\n",
              "  </thead>\n",
              "  <tbody>\n",
              "    <tr>\n",
              "      <th>count</th>\n",
              "      <td>1000.000000</td>\n",
              "      <td>1000.000000</td>\n",
              "      <td>1000.000000</td>\n",
              "      <td>1000.000000</td>\n",
              "      <td>1000.000000</td>\n",
              "      <td>1000.000000</td>\n",
              "      <td>1000.000000</td>\n",
              "      <td>1000.000000</td>\n",
              "      <td>1000.000000</td>\n",
              "      <td>1.000000e+03</td>\n",
              "      <td>1000.000000</td>\n",
              "      <td>1.000000e+03</td>\n",
              "    </tr>\n",
              "    <tr>\n",
              "      <th>mean</th>\n",
              "      <td>0.494402</td>\n",
              "      <td>0.508317</td>\n",
              "      <td>0.487465</td>\n",
              "      <td>0.444108</td>\n",
              "      <td>3.764000</td>\n",
              "      <td>0.662828</td>\n",
              "      <td>0.662828</td>\n",
              "      <td>0.674323</td>\n",
              "      <td>0.655804</td>\n",
              "      <td>3.271466e-01</td>\n",
              "      <td>0.339024</td>\n",
              "      <td>3.231400e-01</td>\n",
              "    </tr>\n",
              "    <tr>\n",
              "      <th>std</th>\n",
              "      <td>0.287743</td>\n",
              "      <td>0.284111</td>\n",
              "      <td>0.292580</td>\n",
              "      <td>0.210157</td>\n",
              "      <td>2.183362</td>\n",
              "      <td>0.234768</td>\n",
              "      <td>0.234768</td>\n",
              "      <td>0.231643</td>\n",
              "      <td>0.239674</td>\n",
              "      <td>2.979967e-01</td>\n",
              "      <td>0.294233</td>\n",
              "      <td>3.010605e-01</td>\n",
              "    </tr>\n",
              "    <tr>\n",
              "      <th>min</th>\n",
              "      <td>0.000100</td>\n",
              "      <td>0.000000</td>\n",
              "      <td>0.000108</td>\n",
              "      <td>0.000000</td>\n",
              "      <td>0.000000</td>\n",
              "      <td>0.009981</td>\n",
              "      <td>0.009981</td>\n",
              "      <td>0.000000</td>\n",
              "      <td>0.010408</td>\n",
              "      <td>9.924199e-09</td>\n",
              "      <td>0.000000</td>\n",
              "      <td>1.173392e-08</td>\n",
              "    </tr>\n",
              "    <tr>\n",
              "      <th>25%</th>\n",
              "      <td>0.250918</td>\n",
              "      <td>0.275228</td>\n",
              "      <td>0.230890</td>\n",
              "      <td>0.287641</td>\n",
              "      <td>2.000000</td>\n",
              "      <td>0.500917</td>\n",
              "      <td>0.500917</td>\n",
              "      <td>0.524622</td>\n",
              "      <td>0.480510</td>\n",
              "      <td>6.296033e-02</td>\n",
              "      <td>0.075751</td>\n",
              "      <td>5.331011e-02</td>\n",
              "    </tr>\n",
              "    <tr>\n",
              "      <th>50%</th>\n",
              "      <td>0.485486</td>\n",
              "      <td>0.515976</td>\n",
              "      <td>0.468818</td>\n",
              "      <td>0.395947</td>\n",
              "      <td>3.000000</td>\n",
              "      <td>0.696768</td>\n",
              "      <td>0.696768</td>\n",
              "      <td>0.718315</td>\n",
              "      <td>0.684703</td>\n",
              "      <td>2.356968e-01</td>\n",
              "      <td>0.266231</td>\n",
              "      <td>2.197906e-01</td>\n",
              "    </tr>\n",
              "    <tr>\n",
              "      <th>75%</th>\n",
              "      <td>0.729613</td>\n",
              "      <td>0.747734</td>\n",
              "      <td>0.750513</td>\n",
              "      <td>0.589799</td>\n",
              "      <td>5.000000</td>\n",
              "      <td>0.854174</td>\n",
              "      <td>0.854174</td>\n",
              "      <td>0.864716</td>\n",
              "      <td>0.866322</td>\n",
              "      <td>5.323353e-01</td>\n",
              "      <td>0.559107</td>\n",
              "      <td>5.632708e-01</td>\n",
              "    </tr>\n",
              "    <tr>\n",
              "      <th>max</th>\n",
              "      <td>0.998230</td>\n",
              "      <td>0.997099</td>\n",
              "      <td>0.999805</td>\n",
              "      <td>0.984138</td>\n",
              "      <td>9.000000</td>\n",
              "      <td>0.999114</td>\n",
              "      <td>0.999114</td>\n",
              "      <td>0.998549</td>\n",
              "      <td>0.999903</td>\n",
              "      <td>9.964621e-01</td>\n",
              "      <td>0.994207</td>\n",
              "      <td>9.996106e-01</td>\n",
              "    </tr>\n",
              "  </tbody>\n",
              "</table>\n",
              "</div>\n",
              "      <button class=\"colab-df-convert\" onclick=\"convertToInteractive('df-6d1972a1-8aa4-4749-a7e2-19728b8cddab')\"\n",
              "              title=\"Convert this dataframe to an interactive table.\"\n",
              "              style=\"display:none;\">\n",
              "        \n",
              "  <svg xmlns=\"http://www.w3.org/2000/svg\" height=\"24px\"viewBox=\"0 0 24 24\"\n",
              "       width=\"24px\">\n",
              "    <path d=\"M0 0h24v24H0V0z\" fill=\"none\"/>\n",
              "    <path d=\"M18.56 5.44l.94 2.06.94-2.06 2.06-.94-2.06-.94-.94-2.06-.94 2.06-2.06.94zm-11 1L8.5 8.5l.94-2.06 2.06-.94-2.06-.94L8.5 2.5l-.94 2.06-2.06.94zm10 10l.94 2.06.94-2.06 2.06-.94-2.06-.94-.94-2.06-.94 2.06-2.06.94z\"/><path d=\"M17.41 7.96l-1.37-1.37c-.4-.4-.92-.59-1.43-.59-.52 0-1.04.2-1.43.59L10.3 9.45l-7.72 7.72c-.78.78-.78 2.05 0 2.83L4 21.41c.39.39.9.59 1.41.59.51 0 1.02-.2 1.41-.59l7.78-7.78 2.81-2.81c.8-.78.8-2.07 0-2.86zM5.41 20L4 18.59l7.72-7.72 1.47 1.35L5.41 20z\"/>\n",
              "  </svg>\n",
              "      </button>\n",
              "      \n",
              "  <style>\n",
              "    .colab-df-container {\n",
              "      display:flex;\n",
              "      flex-wrap:wrap;\n",
              "      gap: 12px;\n",
              "    }\n",
              "\n",
              "    .colab-df-convert {\n",
              "      background-color: #E8F0FE;\n",
              "      border: none;\n",
              "      border-radius: 50%;\n",
              "      cursor: pointer;\n",
              "      display: none;\n",
              "      fill: #1967D2;\n",
              "      height: 32px;\n",
              "      padding: 0 0 0 0;\n",
              "      width: 32px;\n",
              "    }\n",
              "\n",
              "    .colab-df-convert:hover {\n",
              "      background-color: #E2EBFA;\n",
              "      box-shadow: 0px 1px 2px rgba(60, 64, 67, 0.3), 0px 1px 3px 1px rgba(60, 64, 67, 0.15);\n",
              "      fill: #174EA6;\n",
              "    }\n",
              "\n",
              "    [theme=dark] .colab-df-convert {\n",
              "      background-color: #3B4455;\n",
              "      fill: #D2E3FC;\n",
              "    }\n",
              "\n",
              "    [theme=dark] .colab-df-convert:hover {\n",
              "      background-color: #434B5C;\n",
              "      box-shadow: 0px 1px 3px 1px rgba(0, 0, 0, 0.15);\n",
              "      filter: drop-shadow(0px 1px 2px rgba(0, 0, 0, 0.3));\n",
              "      fill: #FFFFFF;\n",
              "    }\n",
              "  </style>\n",
              "\n",
              "      <script>\n",
              "        const buttonEl =\n",
              "          document.querySelector('#df-6d1972a1-8aa4-4749-a7e2-19728b8cddab button.colab-df-convert');\n",
              "        buttonEl.style.display =\n",
              "          google.colab.kernel.accessAllowed ? 'block' : 'none';\n",
              "\n",
              "        async function convertToInteractive(key) {\n",
              "          const element = document.querySelector('#df-6d1972a1-8aa4-4749-a7e2-19728b8cddab');\n",
              "          const dataTable =\n",
              "            await google.colab.kernel.invokeFunction('convertToInteractive',\n",
              "                                                     [key], {});\n",
              "          if (!dataTable) return;\n",
              "\n",
              "          const docLinkHtml = 'Like what you see? Visit the ' +\n",
              "            '<a target=\"_blank\" href=https://colab.research.google.com/notebooks/data_table.ipynb>data table notebook</a>'\n",
              "            + ' to learn more about interactive tables.';\n",
              "          element.innerHTML = '';\n",
              "          dataTable['output_type'] = 'display_data';\n",
              "          await google.colab.output.renderOutput(dataTable, element);\n",
              "          const docLink = document.createElement('div');\n",
              "          docLink.innerHTML = docLinkHtml;\n",
              "          element.appendChild(docLink);\n",
              "        }\n",
              "      </script>\n",
              "    </div>\n",
              "  </div>\n",
              "  "
            ]
          },
          "metadata": {},
          "execution_count": 114
        }
      ]
    },
    {
      "cell_type": "code",
      "source": [
        "\"\"\"\n",
        "Q2d: For each of the three input features, compute its square-root to create 3 additional features. Repeat for squaring the feature values to create another 3 features.\n",
        "You now have 9 total input features: A, B, C, sqrt(A), sqrt(B), sqrt(C), A2, B2, C2. \n",
        "Do this for all three data splits (train, val, and test). You can think of these as polynomial kernels used in SVMs.\n",
        "\"\"\"\n",
        "import numpy as np\n",
        "\n",
        "#creating additional vectors for training dataset with variables declared in Q2a\n",
        "dfTrain['sqrt(A)'] = np.sqrt(trainA)\n",
        "dfTrain['sqrt(B)'] = np.sqrt(trainB)\n",
        "dfTrain['sqrt(C)'] = np.sqrt(trainC)\n",
        "dfTrain['A2'] = np.square(trainA)\n",
        "dfTrain['B2'] = np.square(trainB)\n",
        "dfTrain['C2'] = np.square(trainC)\n",
        "\n",
        "print(\"Train dataset sample:\\n\", dfTrain.head())\n",
        "\n",
        "#creating additional vectors for validation dataset\n",
        "dfVal['sqrt(A)'] = np.sqrt(dfVal['A'])\n",
        "dfVal['sqrt(B)'] = np.sqrt(dfVal['B'])\n",
        "dfVal['sqrt(C)'] = np.sqrt(dfVal['C'])\n",
        "dfVal['A2'] = np.square(dfVal['A'])\n",
        "dfVal['B2'] = np.square(dfVal['B'])\n",
        "dfVal['C2'] = np.square(dfVal['C'])\n",
        "\n",
        "print(\"\\nValue dataset sample:\\n\", dfVal.head())\n",
        "\n",
        "#creating additional vectors for testing dataset\n",
        "dfTest['sqrt(A)'] = np.sqrt(dfTest['A'])\n",
        "dfTest['sqrt(B)'] = np.sqrt(dfTest['B'])\n",
        "dfTest['sqrt(C)'] = np.sqrt(dfTest['C'])\n",
        "dfTest['A2'] = np.square(dfTest['A'])\n",
        "dfTest['B2'] = np.square(dfTest['B'])\n",
        "dfTest['C2'] = np.square(dfTest['C'])\n",
        "\n",
        "print(\"\\nTest dataset sample:\\n\", dfTest.head())"
      ],
      "metadata": {
        "id": "-jJ1cxmvwu90",
        "colab": {
          "base_uri": "https://localhost:8080/"
        },
        "outputId": "0890674c-7c60-49dd-a9db-760c457f6ea2"
      },
      "execution_count": null,
      "outputs": [
        {
          "output_type": "stream",
          "name": "stdout",
          "text": [
            "Train dataset sample:\n",
            "           A         B         C         Y  Label     sqrtA   sqrt(A)  \\\n",
            "0  0.433429  0.684660  0.100264  0.554477      5  0.658353  0.658353   \n",
            "1  0.596584  0.427275  0.972302  0.344430      3  0.772389  0.772389   \n",
            "2  0.884875  0.566586  0.014994  0.555790      5  0.940678  0.940678   \n",
            "3  0.145045  0.427584  0.756287  0.228959      2  0.380848  0.380848   \n",
            "4  0.237964  0.684935  0.348287  0.481648      4  0.487816  0.487816   \n",
            "\n",
            "    sqrt(B)   sqrt(C)        A2        B2        C2  \n",
            "0  0.827442  0.316645  0.187861  0.468759  0.010053  \n",
            "1  0.653663  0.986054  0.355913  0.182564  0.945371  \n",
            "2  0.752719  0.122450  0.783005  0.321020  0.000225  \n",
            "3  0.653899  0.869648  0.021038  0.182828  0.571970  \n",
            "4  0.827608  0.590159  0.056627  0.469136  0.121304  \n",
            "\n",
            "Value dataset sample:\n",
            "           A         B         C         Y  Label   sqrt(A)   sqrt(B)  \\\n",
            "0  0.225478  0.417502  0.658253  0.261007      2  0.474845  0.646144   \n",
            "1  0.730810  0.025166  0.219302  0.300882      2  0.854874  0.158637   \n",
            "2  0.098021  0.858857  0.857660  0.568094      5  0.313084  0.926745   \n",
            "3  0.906471  0.476743  0.233213  0.482853      4  0.952088  0.690466   \n",
            "4  0.701059  0.791579  0.512961  0.691283      6  0.837293  0.889707   \n",
            "\n",
            "    sqrt(C)        A2        B2        C2  \n",
            "0  0.811328  0.050840  0.174308  0.433297  \n",
            "1  0.468297  0.534083  0.000633  0.048093  \n",
            "2  0.926099  0.009608  0.737635  0.735580  \n",
            "3  0.482921  0.821689  0.227284  0.054388  \n",
            "4  0.716213  0.491484  0.626597  0.263129  \n",
            "\n",
            "Test dataset sample:\n",
            "           A         B         C         Y  Label   sqrt(A)   sqrt(B)  \\\n",
            "0  0.731463  0.155831  0.182976  0.319177      2  0.855256  0.394755   \n",
            "1  0.150801  0.173054  0.268754  0.162234      1  0.388331  0.415998   \n",
            "2  0.080348  0.045691  0.560025  0.089554      0  0.283458  0.213753   \n",
            "3  0.400330  0.327278  0.487487  0.280120      2  0.632716  0.572082   \n",
            "4  0.313991  0.972323  0.615543  0.804159      7  0.560349  0.986064   \n",
            "\n",
            "    sqrt(C)        A2        B2        C2  \n",
            "0  0.427757  0.535038  0.024283  0.033480  \n",
            "1  0.518415  0.022741  0.029948  0.072229  \n",
            "2  0.748348  0.006456  0.002088  0.313629  \n",
            "3  0.698203  0.160264  0.107111  0.237644  \n",
            "4  0.784565  0.098590  0.945411  0.378893  \n"
          ]
        }
      ]
    },
    {
      "cell_type": "markdown",
      "source": [
        "**QUESTION 3**"
      ],
      "metadata": {
        "id": "lxXg_ih4xdDU"
      }
    },
    {
      "cell_type": "code",
      "source": [
        "\"\"\"\n",
        "Q3a: Train a linear regression model on the train set using only the 3 original input features.\n",
        "\n",
        "\"\"\"\n",
        "from sklearn import linear_model as lm\n",
        "\n",
        "# setup\n",
        "trainX3 = dfTrain[['A', 'B', 'C']]\n",
        "trainY3 = dfTrain['Y']\n",
        "\n",
        "# initializing and fitting linear regression model\n",
        "linearModel3 = lm.LinearRegression().fit(trainX3, trainY3)"
      ],
      "metadata": {
        "id": "dhri8_3yxfFz"
      },
      "execution_count": null,
      "outputs": []
    },
    {
      "cell_type": "code",
      "source": [
        "\"\"\"\n",
        "Q3b: What are the mean absolute errors of the train set, val set, and test sets using this model? Did the model overfit the train set?\n",
        "\n",
        "The mean value errors of all the datasets are equal which suggests high accuracy with the training model. As long as the datasets do not \n",
        "contain data that is exactly the same, the model did not overfit.\n",
        "\"\"\"\n",
        "from sklearn import linear_model as lm\n",
        "from sklearn.metrics import mean_absolute_error as mae\n",
        "\n",
        "#running model on training dataset\n",
        "trainPred = linearModel3.predict(trainX3) # apply trained/learned model back to training data\n",
        "print(\"Train dataset mean absolute error: %.2f\" % mae(trainY3, trainPred)) # mean absolute error of training set\n",
        "\n",
        "# running model on validation dataset\n",
        "valX3 = dfVal[['A', 'B', 'C']]  # setting up validation set vectors\n",
        "valY3 = dfVal['Y'] # setting up validation set results\n",
        "valPred = linearModel3.predict(valX3) # results of trained model on validation set\n",
        "print(\"Value dataset mean absolute error: %.2f\" % mae(valY3, valPred)) # mean absolute error of validation set\n",
        "\n",
        "# running model on test dataset\n",
        "testX3 = dfTest[['A', 'B', 'C']]  # setting up test set vectors\n",
        "testY3= dfTest['Y'] # setting up test set results\n",
        "testPred = linearModel3.predict(testX3) # results of trained model on test set\n",
        "print(\"Test dataset mean absolute error: %.2f\" % mae(testY3, testPred)) # mean absolute error of test set"
      ],
      "metadata": {
        "id": "Xbqp56oCxl2s",
        "colab": {
          "base_uri": "https://localhost:8080/"
        },
        "outputId": "8059c3e4-60ba-4d44-eac6-5a14013619e2"
      },
      "execution_count": null,
      "outputs": [
        {
          "output_type": "stream",
          "name": "stdout",
          "text": [
            "Train dataset mean absolute error: 0.04\n",
            "Value dataset mean absolute error: 0.04\n",
            "Test dataset mean absolute error: 0.04\n"
          ]
        }
      ]
    },
    {
      "cell_type": "code",
      "source": [
        "\"\"\"\n",
        "Q3c: What are the values of the 4 learned parameters (3 weights and 1 bias)? Do these values make sense given your scatter plots in Q2a?\n",
        "\n",
        "The weights make sense as feature B holds the most significance in terms of determing the Y value. The rest of the weights also reflect the predictions made in Q2a correctly.\n",
        "\"\"\"\n",
        "print('Weights: ', linearModel3.coef_)\n",
        "print('Bias: ', linearModel3.intercept_)"
      ],
      "metadata": {
        "id": "0nQYH-U1xxZr",
        "colab": {
          "base_uri": "https://localhost:8080/"
        },
        "outputId": "ed429df7-d03d-448a-8510-b124a2197967"
      },
      "execution_count": null,
      "outputs": [
        {
          "output_type": "stream",
          "name": "stdout",
          "text": [
            "Weights:  [ 0.26851499  0.66435995 -0.06032162]\n",
            "Bias:  0.0030530675285197484\n"
          ]
        }
      ]
    },
    {
      "cell_type": "code",
      "source": [
        "\"\"\"\n",
        "Q3d: Train another linear regression model using all 9 input features.\n",
        "\"\"\"\n",
        "from sklearn import linear_model as lm\n",
        "\n",
        "# setup\n",
        "trainX9 = dfTrain[['A', 'B', 'C', 'sqrt(A)', 'sqrt(B)', 'sqrt(C)', 'A2', 'B2', 'C2']]\n",
        "trainY9 = dfTrain['Y']\n",
        "\n",
        "# initializing and fitting linear regression model\n",
        "linearModel9 = lm.LinearRegression().fit(trainX9, trainY9)  "
      ],
      "metadata": {
        "id": "RFCzKCFqxz-7"
      },
      "execution_count": null,
      "outputs": []
    },
    {
      "cell_type": "code",
      "source": [
        "\"\"\"\n",
        "Q3e: What are the mean absolute errors of each dataset, using this new model?\n",
        "\"\"\"\n",
        "from sklearn import linear_model as lm\n",
        "from sklearn.metrics import mean_absolute_error as mae\n",
        "\n",
        "#running model on training dataset\n",
        "trainPred = linearModel9.predict(trainX9)\n",
        "print(\"Train dataset mean absolute error: %.2f\" % mae(trainY9, trainPred))\n",
        "\n",
        "# running model on validation dataset\n",
        "valX9 = dfVal[['A', 'B', 'C', 'sqrt(A)', 'sqrt(B)', 'sqrt(C)', 'A2', 'B2', 'C2']]\n",
        "valY9 = dfVal['Y']\n",
        "valPred = linearModel9.predict(valX9)\n",
        "print(\"Value dataset mean absolute error: %.2f\" % mae(valY9, valPred))\n",
        "\n",
        "# running model on test dataset\n",
        "testX9 = dfTest[['A', 'B', 'C', 'sqrt(A)', 'sqrt(B)', 'sqrt(C)', 'A2', 'B2', 'C2']]\n",
        "testY9 = dfTest['Y']\n",
        "testPred = linearModel9.predict(testX9)\n",
        "print(\"Test dataset mean absolute error: %.2f\" % mae(testY9, testPred))"
      ],
      "metadata": {
        "id": "qBF4i2JFx4Dj",
        "colab": {
          "base_uri": "https://localhost:8080/"
        },
        "outputId": "ddc9848b-7bad-4656-d8f4-ba076d236f16"
      },
      "execution_count": null,
      "outputs": [
        {
          "output_type": "stream",
          "name": "stdout",
          "text": [
            "Train dataset mean absolute error: 0.00\n",
            "Value dataset mean absolute error: 0.00\n",
            "Test dataset mean absolute error: 0.00\n"
          ]
        }
      ]
    },
    {
      "cell_type": "code",
      "source": [
        "\"\"\"\n",
        "Q3f: How many learned parameters are there for this model, and what are their values?\n",
        "\n",
        "There are 10 values: 9 weights and 1 bias. The values of these learned paramters are printed below once the code is executed.\n",
        "\"\"\"\n",
        "print('Weights: ', linearModel9.coef_)\n",
        "print('Bias: ', linearModel9.intercept_)"
      ],
      "metadata": {
        "id": "ylWEBJTcx8Bk",
        "colab": {
          "base_uri": "https://localhost:8080/"
        },
        "outputId": "a7fbc33f-2ea8-4f4e-e5bd-ba6415ee545c"
      },
      "execution_count": null,
      "outputs": [
        {
          "output_type": "stream",
          "name": "stdout",
          "text": [
            "Weights:  [ 3.18658118e-03  4.12904461e-04 -6.66706794e-02  3.29369858e-01\n",
            "  5.77037044e-05  1.93867238e-04 -1.14337648e-03  6.63574154e-01\n",
            "  1.43711935e-04]\n",
            "Bias:  0.03170073560858788\n"
          ]
        }
      ]
    },
    {
      "cell_type": "code",
      "source": [
        "\"\"\"\n",
        "Q3g: Which model performs better? How can you explain the difference in performance?\n",
        "\n",
        "The second model performs better as it has a lower mean absolute error.\n",
        "This is because we have introduced more features to the vectors to help predict values.\n",
        "Additionally, some of the features have stronger statistically signficant coefficents.\n",
        "\"\"\""
      ],
      "metadata": {
        "id": "rAT4ED6LyADA"
      },
      "execution_count": null,
      "outputs": []
    },
    {
      "cell_type": "markdown",
      "source": [
        "**QUESTION 4**"
      ],
      "metadata": {
        "id": "c1VYI6iayJS8"
      }
    },
    {
      "cell_type": "code",
      "source": [
        "\"\"\"\n",
        "Q4a: Use scikit-learn to train a logistic regression model on the train set using only the 3 original features. Again, just use the default hyper-parameters.\n",
        "\"\"\"\n",
        "from sklearn.linear_model import LogisticRegression as lr\n",
        "\n",
        "#set and execute logical regression model for training set\n",
        "trainLabels = dfTrain['Label'] #setup label vectors of training dataset\n",
        "logReglinearModel3 = lr(solver='liblinear')\n",
        "logReglinearModel3.fit(trainX3, trainLabels)\n",
        "trainPred = logReglinearModel3.predict(trainX3)\n",
        "\n",
        "print(trainPred)"
      ],
      "metadata": {
        "id": "ZNpJivbuyLND",
        "colab": {
          "base_uri": "https://localhost:8080/"
        },
        "outputId": "9c4cc550-b7ed-446e-b2bc-bd4e9e552f95"
      },
      "execution_count": null,
      "outputs": [
        {
          "output_type": "stream",
          "name": "stdout",
          "text": [
            "[4 3 3 1 5 2 3 3 7 2 2 1 3 3 3 1 3 2 5 3 1 3 5 3 2 5 1 2 1 3 2 3 3 8 1 7 3\n",
            " 3 5 7 3 6 2 6 3 6 3 3 3 3 5 5 2 4 3 3 2 3 6 8 3 2 3 5 3 3 5 3 3 6 2 3 2 3\n",
            " 2 5 6 3 6 5 3 3 4 3 1 5 3 5 2 3 2 3 3 5 5 1 5 5 3 2 4 5 5 2 2 3 3 3 2 6 3\n",
            " 3 2 3 3 3 2 2 3 7 2 1 7 3 6 3 3 3 3 3 5 3 4 3 5 3 1 3 2 4 3 2 3 2 2 3 1 5\n",
            " 3 3 3 7 3 5 2 2 1 3 5 3 2 3 2 3 3 3 5 1 3 3 3 5 2 3 3 5 1 6 1 2 6 5 3 5 1\n",
            " 6 6 8 3 3 1 6 6 2 3 3 2 3 5 1 5 1 3 3 2 5 3 3 5 5 5 2 2 3 2 3 3 5 3 2 3 6\n",
            " 3 3 2 2 3 3 1 2 2 3 1 5 2 5 3 6 3 3 3 1 2 3 3 5 3 2 3 2 3 2 7 1 3 3 5 3 3\n",
            " 6 7 6 3 5 2 7 6 3 2 2 5 5 5 3 3 3 3 5 5 5 6 2 3 1 2 3 3 3 2 2 3 4 6 3 1 5\n",
            " 3 3 5 6 3 3 7 7 4 6 3 3 2 3 6 3 1 2 2 2 3 1 5 3 3 3 3 3 6 3 1 7 5 5 2 3 3\n",
            " 6 1 3 3 3 3 3 7 2 3 4 2 2 3 3 2 1 2 5 5 6 2 5 3 3 3 2 6 3 3 3 2 1 5 3 8 2\n",
            " 3 1 2 3 6 3 6 2 5 5 3 2 3 3 5 5 1 2 5 2 3 3 6 3 3 2 3 7 2 6 6 3 3 5 3 2 3\n",
            " 3 3 3 3 6 3 2 5 3 5 7 3 2 2 1 4 5 2 3 3 2 3 3 3 5 3 6 7 3 3 7 3 3 3 1 2 3\n",
            " 8 3 3 5 1 2 2 3 5 2 3 3 4 3 2 3 3 1 5 6 6 1 3 5 1 5 3 3 3 7 3 3 2 5 3 2 3\n",
            " 2 3 3 1 3 7 5 3 2 1 5 3 4 3 3 2 6 3 1 5 2 2 4 2 7 6 2 3 7 2 5 3 3 3 3 5 3\n",
            " 4 1 3 2 2 3 2 6 7 1 3 3 5 3 3 2 3 3 1 3 3 8 2 1 5 3 5 3 3 2 1 1 3 2 2 1 4\n",
            " 3 3 3 3 8 4 2 5 2 6 6 1 1 6 3 3 3 3 3 4 6 3 3 4 6 6 3 5 3 3 2 2 1 2 3 1 1\n",
            " 3 3 3 3 5 3 2 3 2 6 3 3 2 4 2 2 2 5 3 5 3 3 5 1 2 3 6 5 3 5 5 5 3 6 3 8 3\n",
            " 1 2 8 3 6 2 3 7 1 5 1 3 5 3 3 1 6 3 2 1 5 2 3 3 3 5 6 2 3 4 3 5 7 2 5 1 3\n",
            " 6 3 3 2 4 3 6 3 2 5 6 3 3 5 2 3 2 3 7 2 2 1 8 2 2 3 2 5 2 3 5 3 3 3 3 1 3\n",
            " 3 5 3 5 3 5 3 2 6 3 3 1 5 4 2 3 2 6 1 2 1 7 3 5 3 3 2 2 3 3 3 7 4 3 3 6 6\n",
            " 2 5 6 1 6 3 4 5 3 5 2 3 2 4 6 2 5 3 3 2 3 5 5 1 5 3 3 3 3 2 1 3 2 6 3 2 2\n",
            " 3 7 6 2 5 2 3 2 3 3 6 7 3 5 3 2 3 3 3 3 3 6 3 3 7 1 2 3 7 3 5 3 2 7 3 3 3\n",
            " 1 1 5 5 3 1 8 3 4 3 3 3 5 5 3 3 5 4 3 5 3 2 5 2 5 5 2 5 5 5 3 2 2 3 2 1 2\n",
            " 3 5 1 3 3 6 5 3 3 2 1 6 2 3 3 3 2 3 3 3 2 6 5 6 6 4 3 3 6 4 3 6 3 5 1 3 5\n",
            " 5 3 3 3 2 4 4 6 1 2 1 4 3 2 5 5 2 5 3 5 4 6 3 5 2 3 1 3 2 3 2 5 4 2 3 3 3\n",
            " 2 1 3 3 5 2 2 5 6 3 3 6 6 3 5 3 3 1 5 6 3 3 5 3 3 3 1 2 3 3 3 7 5 2 5 3 1\n",
            " 3 3 7 3 3 2 5 2 6 1 3 1 5 3 3 3 3 6 3 3 3 2 3 6 3 1 3 2 1 3 3 5 3 3 3 5 5\n",
            " 4]\n"
          ]
        }
      ]
    },
    {
      "cell_type": "code",
      "source": [
        "\"\"\"\n",
        "Q4b: What are the overall accuracies of the train, val, and test sets? Use scikit-learn’s accuracy_score metric.\n",
        "\"\"\"\n",
        "from sklearn.linear_model import LogisticRegression as lr\n",
        "from sklearn import metrics as m\n",
        "\n",
        "#setting and executing logical regression model for validation set\n",
        "valLabels = dfVal['Label']\n",
        "valPred = logReglinearModel3.predict(valX3)\n",
        "\n",
        "#setting and executing logical regression model for test set\n",
        "testLabels = dfTest['Label']\n",
        "testPred = logReglinearModel3.predict(testX3)\n",
        "\n",
        "#printing accuracy values\n",
        "print('Accuracy: ', m.accuracy_score(trainLabels, trainPred))\n",
        "print('Accuracy: ', m.accuracy_score(valLabels, valPred))\n",
        "print('Accuracy: ', m.accuracy_score(testLabels, testPred))"
      ],
      "metadata": {
        "id": "l2aYUirgyRGk",
        "colab": {
          "base_uri": "https://localhost:8080/"
        },
        "outputId": "2a9f8a95-60c4-4b57-f939-0ab1ba58c50f"
      },
      "execution_count": null,
      "outputs": [
        {
          "output_type": "stream",
          "name": "stdout",
          "text": [
            "Accuracy:  0.413\n",
            "Accuracy:  0.355\n",
            "Accuracy:  0.369\n"
          ]
        }
      ]
    },
    {
      "cell_type": "code",
      "source": [
        "\"\"\"\n",
        "Q4c: Train another logistic regression model on the train set using all 9 features. If it doesn’t converge, set max_iter to 5,000.\n",
        "\"\"\"\n",
        "from sklearn.linear_model import LogisticRegression as lr\n",
        "\n",
        "#set and execute logical regression model for training set\n",
        "\n",
        "logReglinearModel9 = lr(solver='liblinear')\n",
        "logReglinearModel9.fit(trainX9, trainLabels)\n",
        "trainPred = logReglinearModel9.predict(trainX9)\n",
        "\n",
        "print(trainPred)"
      ],
      "metadata": {
        "id": "NJw0iqWvyUsj",
        "colab": {
          "base_uri": "https://localhost:8080/"
        },
        "outputId": "57e8fc3a-b3c7-4e43-c910-01d72caae7fa"
      },
      "execution_count": null,
      "outputs": [
        {
          "output_type": "stream",
          "name": "stdout",
          "text": [
            "[4 3 3 3 4 2 3 3 7 2 2 1 3 3 3 1 4 2 5 3 3 3 8 3 3 5 1 2 1 4 2 3 3 8 1 8 3\n",
            " 5 5 7 3 6 2 6 3 6 3 3 3 3 5 5 2 7 3 3 2 3 6 8 3 2 3 5 2 3 7 3 3 6 2 3 1 4\n",
            " 2 8 6 3 6 5 5 3 4 3 1 8 3 5 2 3 2 3 3 8 5 1 6 5 3 2 4 4 5 2 2 3 3 3 2 6 3\n",
            " 3 3 2 3 3 3 2 3 7 2 3 7 3 6 3 3 3 3 3 4 4 4 4 5 3 1 3 3 4 3 2 3 2 2 3 1 5\n",
            " 3 5 3 7 3 5 2 2 1 3 6 3 3 3 2 3 5 3 5 1 2 3 3 5 2 2 3 6 1 6 1 2 6 5 3 5 1\n",
            " 6 6 8 5 3 1 6 6 2 3 4 2 2 6 1 5 1 3 3 2 6 3 3 5 8 5 2 2 2 2 5 3 5 3 2 3 6\n",
            " 3 3 2 1 4 3 1 3 1 5 1 5 2 5 3 6 3 3 3 1 2 3 3 5 3 1 3 2 3 1 8 3 3 3 5 3 3\n",
            " 6 8 6 4 5 2 7 6 3 2 2 6 5 5 3 3 3 3 8 5 6 6 2 3 0 2 3 3 3 2 2 3 4 6 3 1 5\n",
            " 3 3 8 6 2 3 8 7 4 6 3 3 2 3 6 3 1 2 2 3 3 1 5 3 2 3 3 3 6 3 1 8 5 5 2 3 3\n",
            " 6 1 3 3 5 3 3 7 2 3 5 3 2 3 3 2 1 3 5 6 6 2 8 4 3 3 2 6 3 3 3 3 3 5 3 8 2\n",
            " 3 1 2 4 6 3 6 2 5 4 4 2 3 3 5 5 1 2 5 2 3 3 6 3 3 2 3 7 4 6 6 2 3 4 4 2 3\n",
            " 3 3 4 3 6 2 3 5 3 5 7 3 1 2 3 4 8 2 2 3 2 3 5 2 5 3 6 7 3 3 8 3 2 3 1 2 3\n",
            " 8 3 3 5 1 2 1 3 8 2 3 3 4 4 2 3 3 1 5 6 6 1 3 5 1 5 3 3 3 7 3 3 2 5 3 2 3\n",
            " 2 3 3 1 5 7 5 3 1 1 5 3 4 3 3 2 6 3 1 5 1 2 4 2 8 6 2 4 7 2 5 3 3 3 3 5 3\n",
            " 4 3 3 3 1 3 2 6 8 1 3 3 5 3 3 2 3 3 3 2 3 8 2 1 8 3 5 3 3 2 3 0 3 2 2 1 4\n",
            " 3 3 3 3 8 4 2 5 2 6 6 3 1 6 3 3 3 3 3 7 6 3 2 4 6 6 3 8 3 3 2 2 3 2 3 1 1\n",
            " 3 3 3 3 5 3 2 3 2 6 3 3 3 4 2 2 2 5 3 5 3 3 5 3 2 3 6 3 4 5 8 5 3 5 3 8 3\n",
            " 1 2 8 3 6 2 3 7 1 6 1 3 5 5 3 3 6 3 2 0 5 2 3 3 3 5 6 2 3 4 3 5 7 2 5 1 5\n",
            " 6 3 2 2 4 3 6 3 3 7 6 5 3 3 2 3 2 3 7 2 2 1 8 2 2 3 3 8 2 3 6 3 3 3 3 1 3\n",
            " 3 7 5 5 3 5 3 3 6 3 2 1 5 4 2 3 2 6 1 3 1 7 3 8 3 2 2 2 3 3 3 7 4 3 3 6 6\n",
            " 2 5 6 1 6 3 4 5 3 5 2 3 2 4 6 2 5 3 3 2 3 6 5 3 5 3 3 3 3 2 3 3 2 6 3 2 2\n",
            " 3 8 6 2 5 3 4 2 3 3 6 8 3 5 4 1 3 3 3 3 3 6 3 3 7 1 3 3 8 3 3 3 1 7 3 3 3\n",
            " 1 1 5 4 3 1 8 3 4 2 3 3 4 5 3 3 5 4 3 5 3 2 6 2 5 5 2 5 4 4 3 2 2 2 3 1 2\n",
            " 3 5 1 3 3 6 8 3 3 2 1 6 2 3 5 3 2 5 3 3 2 6 5 6 5 7 3 3 6 4 3 6 3 5 1 3 4\n",
            " 6 2 3 3 2 4 4 8 1 2 1 4 3 2 5 5 2 5 3 6 5 6 3 5 2 2 1 3 2 3 3 5 7 2 3 3 3\n",
            " 1 3 4 3 5 2 2 5 6 3 3 6 6 3 5 3 3 3 5 8 3 3 5 3 3 3 1 2 2 5 3 7 5 2 4 5 1\n",
            " 4 2 7 3 3 1 5 3 6 3 5 1 8 4 3 3 3 6 3 2 2 3 4 8 3 1 3 2 1 3 3 6 3 2 3 5 5\n",
            " 4]\n"
          ]
        }
      ]
    },
    {
      "cell_type": "code",
      "source": [
        "\"\"\"\n",
        "Q4d: Repeat b, but with your new logistic regression model.\n",
        "\"\"\"\n",
        "from sklearn.linear_model import LogisticRegression as lr\n",
        "from sklearn import metrics as m\n",
        "\n",
        "#set and execute logical regression model for validation set\n",
        "valPred = logReglinearModel9.predict(valX9)\n",
        "\n",
        "#set and execute logical regression model for test set\n",
        "testPred = logReglinearModel9.predict(testX9)\n",
        "\n",
        "#printing accuracy values\n",
        "print('Accuracy: ', m.accuracy_score(trainLabels, trainPred))\n",
        "print('Accuracy: ', m.accuracy_score(valLabels, valPred))\n",
        "print('Accuracy: ', m.accuracy_score(testLabels, testPred))"
      ],
      "metadata": {
        "id": "V1TDc_aKyYBU",
        "colab": {
          "base_uri": "https://localhost:8080/"
        },
        "outputId": "3b9a74e8-6ddb-4d8e-cdfa-77d487c695e9"
      },
      "execution_count": null,
      "outputs": [
        {
          "output_type": "stream",
          "name": "stdout",
          "text": [
            "Accuracy:  0.478\n",
            "Accuracy:  0.401\n",
            "Accuracy:  0.425\n"
          ]
        }
      ]
    },
    {
      "cell_type": "code",
      "source": [
        "\"\"\"\n",
        "Q4e: XGBoost is pre-installed on Google Colab. One hyper-parameter is the depth of the tree (called max_depth). Find the optimal value of max_depth, all other hyper-parameters can be ignored for this question.\n",
        "That is, your model should look like: model = XGBClassifier(max_depth=L).fit(X,y). \n",
        "Hint: the test set should not be used to search for hyper-parameters. Train these models using only the 3 original features.\n",
        "\n",
        "YOUR CODE BELOW, IN THIS CELL\n",
        "\"\"\"\n"
      ],
      "metadata": {
        "id": "fLo2-iTsyccG",
        "colab": {
          "base_uri": "https://localhost:8080/"
        },
        "outputId": "e04120b4-a043-4e71-d97c-67c0e2f803cf"
      },
      "execution_count": null,
      "outputs": [
        {
          "output_type": "stream",
          "name": "stdout",
          "text": [
            "[-0.19147504  0.37658679  0.30575915 -0.60290244 -1.16423083 -1.79579975\n",
            " -2.42706607 -2.92685    -3.31670453 -2.82373779]\n"
          ]
        }
      ]
    },
    {
      "cell_type": "code",
      "source": [
        "\"\"\"\n",
        "Q4f: Repeat Step b, but with your new XGBoost model (with the max_depth chosen from e).\n",
        "\n",
        "YOUR CODE BELOW, IN THIS CELL\n",
        "\"\"\""
      ],
      "metadata": {
        "id": "WvqNZeBpyjjs"
      },
      "execution_count": null,
      "outputs": []
    },
    {
      "cell_type": "code",
      "source": [
        "\"\"\"\n",
        "Q4g: Of your 3 models—two logistic regression models and one XGBoost model—which performs best on the test set? Why do you think this is the case?\n",
        "\n",
        "YOUR ANSWER HERE\n",
        "\"\"\""
      ],
      "metadata": {
        "id": "0a9vbr2Jymq0"
      },
      "execution_count": null,
      "outputs": []
    },
    {
      "cell_type": "markdown",
      "source": [
        "**QUESTION 5**"
      ],
      "metadata": {
        "id": "oKzItLTcytY0"
      }
    },
    {
      "cell_type": "code",
      "source": [
        "\"\"\"\n",
        "Q5a: Using all 9 input features, we want to train a linear model (i.e., torch.nn.Linear) to predict the class label.\n",
        "This is a multi-class classification problem, which of the following loss functions, available in PyTorch, best suits our task? Explain briefly.\n",
        "torch.nn.CrossEntropyLoss()\n",
        "torch.nn.MSELoss()\n",
        "torch.nn.BCELoss()\n",
        "\n",
        "\n",
        "torch.nn.CrossEntropyLoss() will suite the task better as it is the prefered method for classification problems.\n",
        "\"\"\""
      ],
      "metadata": {
        "id": "8dQQk_Layvgk"
      },
      "execution_count": null,
      "outputs": []
    },
    {
      "cell_type": "code",
      "source": [
        "\"\"\"\n",
        "Q5b: Your model will output 10 numbers, one for each class.\n",
        "These are called logits. Do you need to compute the softmax across these 10 logits before applying your loss function (from a), or does the loss function compute the softmax for you?\n",
        "\n",
        "Pytorch's CrossEntropyLoss function calculates the softmax under its documentation and therefore should not be calculated prior as this can disrupt the data purity.\n",
        "\"\"\""
      ],
      "metadata": {
        "id": "te2Fvb5Ky1Xk"
      },
      "execution_count": null,
      "outputs": []
    },
    {
      "cell_type": "code",
      "source": [
        "\"\"\"\n",
        "Q5c: Using the loss function from a, train a linear model using PyTorch and stochastic gradient descent (SGD).\n",
        "Use a batch size of 1, a learning rate of 0.3 and train for 200 epochs. You can update your model weights “manually” or use an optimizer.\n",
        "\"\"\"\n",
        "import random\n",
        "import torch\n",
        "from torch.utils.data import TensorDataset, DataLoader\n",
        "\n"
      ],
      "metadata": {
        "id": "Q11HwYosy5wM"
      },
      "execution_count": null,
      "outputs": []
    },
    {
      "cell_type": "code",
      "source": [
        "\"\"\"\n",
        "Q5d: Use the trained model to make predictions on the val and test sets. Calculate the overall accuracy of both sets.\n",
        "\n",
        "YOUR CODE BELOW, IN THIS CELL\n",
        "\"\"\""
      ],
      "metadata": {
        "id": "ffXSX4EnzAEE"
      },
      "execution_count": null,
      "outputs": []
    },
    {
      "cell_type": "code",
      "source": [
        "\"\"\"\n",
        "Q5e: Repeat parts c and d three times. You should get different results each run. There are two main reasons for this. What are they?\n",
        "\n",
        "YOUR CODE AND ANSWER BELOW, IN THIS CELL\n",
        "\"\"\""
      ],
      "metadata": {
        "id": "7VLYU9U6zEhk"
      },
      "execution_count": null,
      "outputs": []
    }
  ]
}